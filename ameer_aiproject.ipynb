{
  "cells": [
    {
      "cell_type": "markdown",
      "metadata": {
        "id": "NyKdIDbLcm2I"
      },
      "source": [
        "1. Game Overview\n",
        "\n",
        "    \n",
        "\n",
        "*   Players: Human vs. Computer\n",
        "\n",
        "\n",
        "   \n",
        "\n",
        "*    Objective: Place three of your symbols (X or O) in a row, column, or      diagonal.\n",
        "\n",
        "\n",
        "*    Board: 3x3 grid\n",
        "\n",
        "\n",
        "\n",
        "\n",
        "\n",
        "2. Features of the AI\n",
        "\n",
        "    \n",
        "\n",
        "*   The AI uses the Minimax algorithm, which ensures the best move is chosen every turn.\n",
        "*   The AI will either win or tie but will never lose.\n",
        "\n",
        "\n",
        "3. Step-by-Step Implementation\n",
        "\n",
        " Step 1: Set Up the Game Board\n",
        "    "
      ]
    },
    {
      "cell_type": "markdown",
      "metadata": {
        "id": "lShQGNKicrkg"
      },
      "source": []
    },
    {
      "cell_type": "code",
      "execution_count": null,
      "metadata": {
        "id": "xwLdBp7Vectw"
      },
      "outputs": [],
      "source": [
        "def print_board(board):\n",
        "    for row in board:\n",
        "        print(\" | \".join(row))\n",
        "        print(\"-\" * 9)\n",
        "\n",
        "# Initialize the board\n",
        "board = [[\" \" for _ in range(3)] for _ in range(3)]\n"
      ]
    },
    {
      "cell_type": "markdown",
      "metadata": {
        "id": "Q1VgrNbgeqRx"
      },
      "source": [
        "Step 2: Check for Win/Draw Conditions"
      ]
    },
    {
      "cell_type": "code",
      "execution_count": null,
      "metadata": {
        "id": "iWk93OEZer3T"
      },
      "outputs": [],
      "source": [
        "def check_winner(board):\n",
        "    # Check rows, columns, and diagonals\n",
        "    for row in board:\n",
        "        if row[0] == row[1] == row[2] and row[0] != \" \":\n",
        "            return row[0]\n",
        "\n",
        "    for col in range(3):\n",
        "        if board[0][col] == board[1][col] == board[2][col] and board[0][col] != \" \":\n",
        "            return board[0][col]\n",
        "\n",
        "    if board[0][0] == board[1][1] == board[2][2] and board[0][0] != \" \":\n",
        "        return board[0][0]\n",
        "\n",
        "    if board[0][2] == board[1][1] == board[2][0] and board[0][2] != \" \":\n",
        "        return board[0][2]\n",
        "\n",
        "    # Check for draw\n",
        "    if all(cell != \" \" for row in board for cell in row):\n",
        "        return \"Draw\"\n",
        "\n",
        "    return None\n"
      ]
    },
    {
      "cell_type": "markdown",
      "metadata": {
        "id": "4bxliC3ve_y9"
      },
      "source": []
    },
    {
      "cell_type": "markdown",
      "metadata": {
        "id": "pu3F00yrfDjH"
      },
      "source": [
        "Step 3: Implement the Minimax Algorithm"
      ]
    },
    {
      "cell_type": "code",
      "execution_count": null,
      "metadata": {
        "id": "-Va49J3nfEya"
      },
      "outputs": [],
      "source": [
        "def minimax(board, depth, is_maximizing):\n",
        "    winner = check_winner(board)\n",
        "    if winner == \"O\":\n",
        "        return 10 - depth\n",
        "    elif winner == \"X\":\n",
        "        return depth - 10\n",
        "    elif winner == \"Draw\":\n",
        "        return 0\n",
        "\n",
        "    if is_maximizing:\n",
        "        best_score = float('-inf')\n",
        "        for i in range(3):\n",
        "            for j in range(3):\n",
        "                if board[i][j] == \" \":\n",
        "                    board[i][j] = \"O\"\n",
        "                    score = minimax(board, depth + 1, False)\n",
        "                    board[i][j] = \" \"\n",
        "                    best_score = max(score, best_score)\n",
        "        return best_score\n",
        "    else:\n",
        "        best_score = float('inf')\n",
        "        for i in range(3):\n",
        "            for j in range(3):\n",
        "                if board[i][j] == \" \":\n",
        "                    board[i][j] = \"X\"\n",
        "                    score = minimax(board, depth + 1, True)\n",
        "                    board[i][j] = \" \"\n",
        "                    best_score = min(score, best_score)\n",
        "        return best_score\n"
      ]
    },
    {
      "cell_type": "markdown",
      "metadata": {
        "id": "2HvBbqiSfPGN"
      },
      "source": [
        "Step 4: AI’s Best Move"
      ]
    },
    {
      "cell_type": "code",
      "execution_count": null,
      "metadata": {
        "id": "kMhCpnwhfUQC"
      },
      "outputs": [],
      "source": [
        "def best_move(board):\n",
        "    best_score = float('-inf')\n",
        "    move = None\n",
        "    for i in range(3):\n",
        "        for j in range(3):\n",
        "            if board[i][j] == \" \":\n",
        "                board[i][j] = \"O\"\n",
        "                score = minimax(board, 0, False)\n",
        "                board[i][j] = \" \"\n",
        "                if score > best_score:\n",
        "                    best_score = score\n",
        "                    move = (i, j)\n",
        "    return move\n"
      ]
    },
    {
      "cell_type": "markdown",
      "metadata": {
        "id": "9HuY1jSsfZ_L"
      },
      "source": [
        "Step 5: Play the Game"
      ]
    },
    {
      "cell_type": "code",
      "execution_count": null,
      "metadata": {
        "colab": {
          "background_save": true,
          "base_uri": "https://localhost:8080/"
        },
        "id": "y1y7AOvnfiqP",
        "outputId": "a3fadfe3-30ff-4bf6-bf68-c41820c69b22"
      },
      "outputs": [
        {
          "metadata": {
            "tags": null
          },
          "name": "stdout",
          "output_type": "stream",
          "text": [
            "  |   |  \n",
            "---------\n",
            "  |   |  \n",
            "---------\n",
            "  |   |  \n",
            "---------\n",
            "  |   |  \n",
            "---------\n",
            "  | X |  \n",
            "---------\n",
            "  |   |  \n",
            "---------\n",
            "O |   |  \n",
            "---------\n",
            "  | X |  \n",
            "---------\n",
            "  |   |  \n",
            "---------\n",
            "O | X |  \n",
            "---------\n",
            "  | X |  \n",
            "---------\n",
            "  |   |  \n",
            "---------\n",
            "O | X |  \n",
            "---------\n",
            "  | X |  \n",
            "---------\n",
            "  | O |  \n",
            "---------\n",
            "O | X |  \n",
            "---------\n",
            "X | X |  \n",
            "---------\n",
            "  | O |  \n",
            "---------\n",
            "O | X |  \n",
            "---------\n",
            "X | X | O\n",
            "---------\n",
            "  | O |  \n",
            "---------\n",
            "O | X |  \n",
            "---------\n",
            "X | X | O\n",
            "---------\n",
            "X | O |  \n",
            "---------\n",
            "O | X | O\n",
            "---------\n",
            "X | X | O\n",
            "---------\n",
            "X | O |  \n",
            "---------\n"
          ]
        }
      ],
      "source": [
        "def play_game():\n",
        "    current_player = \"X\"  # Human starts\n",
        "    while True:\n",
        "        print_board(board)\n",
        "        result = check_winner(board)\n",
        "        if result:\n",
        "            if result == \"Draw\":\n",
        "                print(\"It's a draw!\")\n",
        "            else:\n",
        "                print(f\"{result} wins!\")\n",
        "            break\n",
        "\n",
        "        if current_player == \"X\":\n",
        "            # Human turn\n",
        "            row, col = map(int, input(\"Enter your move (row and column): \").split())\n",
        "            if board[row][col] == \" \":\n",
        "                board[row][col] = \"X\"\n",
        "                current_player = \"O\"\n",
        "            else:\n",
        "                print(\"Invalid move. Try again.\")\n",
        "        else:\n",
        "            # AI turn\n",
        "            move = best_move(board)\n",
        "            if move:\n",
        "                board[move[0]][move[1]] = \"O\"\n",
        "                current_player = \"X\"\n",
        "\n",
        "play_game()\n"
      ]
    },
    {
      "cell_type": "markdown",
      "metadata": {
        "id": "n8Pb1zodfnTI"
      },
      "source": [
        ". How It Works\n",
        "     \n",
        "   1.  Minimax Algorithm: Explores all possible moves to find the optimal move for the AI.\n",
        "       \n",
        "      *    Maximizes the AI's score.\n",
        "\n",
        "      *    Minimizes the player's potential score.\n",
        "\n",
        "\n",
        "  \n",
        "2.   Game Flow: Alternates between the human and AI until a win, loss, or draw is detected.\n",
        "\n",
        "\n",
        "\n"
      ]
    }
  ],
  "metadata": {
    "colab": {
      "provenance": []
    },
    "kernelspec": {
      "display_name": "Python 3",
      "name": "python3"
    },
    "language_info": {
      "name": "python"
    }
  },
  "nbformat": 4,
  "nbformat_minor": 0
}